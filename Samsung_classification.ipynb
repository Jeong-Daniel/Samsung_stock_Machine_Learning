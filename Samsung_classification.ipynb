{
 "cells": [
  {
   "cell_type": "markdown",
   "id": "1fd1fc7d",
   "metadata": {},
   "source": [
    "# 기초 설정"
   ]
  },
  {
   "cell_type": "code",
   "execution_count": 51,
   "id": "cb020c25",
   "metadata": {},
   "outputs": [],
   "source": [
    "#필요 라이브러리 불러오기\n",
    "import pandas as pd\n",
    "import numpy as np\n",
    "import matplotlib.pyplot as plt\n",
    "import seaborn as sns\n",
    "from sklearn.model_selection import train_test_split\n",
    "import warnings\n",
    "warnings.filterwarnings('ignore')\n",
    "\n",
    "from sklearn.neural_network import MLPRegressor\n",
    "import keras\n",
    "from keras import optimizers\n",
    "from keras.models import Sequential\n",
    "from keras.layers import Dense, SimpleRNN, Activation\n",
    "from tensorflow import keras\n",
    "from tensorflow.keras import layers\n",
    "\n",
    "from sklearn.metrics import accuracy_score"
   ]
  },
  {
   "cell_type": "code",
   "execution_count": 52,
   "id": "e93f1f01",
   "metadata": {},
   "outputs": [],
   "source": [
    "#데이터 불러오기\n",
    "df = pd.read_csv('samsung.csv', index_col = 0) #encoding 지정으로 한글깨짐 방지, 일자를 인덱스로 사용"
   ]
  },
  {
   "cell_type": "code",
   "execution_count": 53,
   "id": "3c2235f8",
   "metadata": {},
   "outputs": [],
   "source": [
    "#인덱스 날자형으로 변경하기\n",
    "df.index = pd.to_datetime(df.index)"
   ]
  },
  {
   "cell_type": "code",
   "execution_count": 54,
   "id": "3b9eb1bd",
   "metadata": {},
   "outputs": [
    {
     "data": {
      "text/html": [
       "<div>\n",
       "<style scoped>\n",
       "    .dataframe tbody tr th:only-of-type {\n",
       "        vertical-align: middle;\n",
       "    }\n",
       "\n",
       "    .dataframe tbody tr th {\n",
       "        vertical-align: top;\n",
       "    }\n",
       "\n",
       "    .dataframe thead th {\n",
       "        text-align: right;\n",
       "    }\n",
       "</style>\n",
       "<table border=\"1\" class=\"dataframe\">\n",
       "  <thead>\n",
       "    <tr style=\"text-align: right;\">\n",
       "      <th></th>\n",
       "      <th>시가</th>\n",
       "      <th>고가</th>\n",
       "      <th>저가</th>\n",
       "      <th>종가</th>\n",
       "      <th>거래량</th>\n",
       "    </tr>\n",
       "    <tr>\n",
       "      <th>일자</th>\n",
       "      <th></th>\n",
       "      <th></th>\n",
       "      <th></th>\n",
       "      <th></th>\n",
       "      <th></th>\n",
       "    </tr>\n",
       "  </thead>\n",
       "  <tbody>\n",
       "    <tr>\n",
       "      <th>2020-01-31</th>\n",
       "      <td>57,800</td>\n",
       "      <td>58,400</td>\n",
       "      <td>56,400</td>\n",
       "      <td>56,400</td>\n",
       "      <td>19,749,457</td>\n",
       "    </tr>\n",
       "    <tr>\n",
       "      <th>2020-01-30</th>\n",
       "      <td>58,800</td>\n",
       "      <td>58,800</td>\n",
       "      <td>56,800</td>\n",
       "      <td>57,200</td>\n",
       "      <td>20,821,939</td>\n",
       "    </tr>\n",
       "    <tr>\n",
       "      <th>2020-01-29</th>\n",
       "      <td>59,100</td>\n",
       "      <td>59,700</td>\n",
       "      <td>58,800</td>\n",
       "      <td>59,100</td>\n",
       "      <td>16,446,102</td>\n",
       "    </tr>\n",
       "    <tr>\n",
       "      <th>2020-01-28</th>\n",
       "      <td>59,400</td>\n",
       "      <td>59,400</td>\n",
       "      <td>58,300</td>\n",
       "      <td>58,800</td>\n",
       "      <td>23,664,541</td>\n",
       "    </tr>\n",
       "    <tr>\n",
       "      <th>2020-01-23</th>\n",
       "      <td>61,800</td>\n",
       "      <td>61,800</td>\n",
       "      <td>60,700</td>\n",
       "      <td>60,800</td>\n",
       "      <td>14,916,555</td>\n",
       "    </tr>\n",
       "  </tbody>\n",
       "</table>\n",
       "</div>"
      ],
      "text/plain": [
       "                시가      고가      저가      종가         거래량\n",
       "일자                                                    \n",
       "2020-01-31  57,800  58,400  56,400  56,400  19,749,457\n",
       "2020-01-30  58,800  58,800  56,800  57,200  20,821,939\n",
       "2020-01-29  59,100  59,700  58,800  59,100  16,446,102\n",
       "2020-01-28  59,400  59,400  58,300  58,800  23,664,541\n",
       "2020-01-23  61,800  61,800  60,700  60,800  14,916,555"
      ]
     },
     "execution_count": 54,
     "metadata": {},
     "output_type": "execute_result"
    }
   ],
   "source": [
    "df.head()"
   ]
  },
  {
   "cell_type": "code",
   "execution_count": 55,
   "id": "3f65a43c",
   "metadata": {},
   "outputs": [],
   "source": [
    "#문자형 데이터 수치형 데이터로 변환\n",
    "\n",
    "for i in range(len(df)):   #데이터의 행 개수 \n",
    "    for j in range(df.shape[1]): # 데이터의 열 개수\n",
    "        df.iloc[i,j] = df.iloc[i,j].replace(',','') # 콤마 지우기(replace 함수)\n",
    "        \n",
    "\n",
    "for i in range(df.shape[1]): #데이터 열 개수만큼\n",
    "    df.iloc[:,i] = df.iloc[:,i].astype('int') #열마다 데이터 수치형으로 변경"
   ]
  },
  {
   "cell_type": "markdown",
   "id": "da6c6614",
   "metadata": {},
   "source": [
    "# 데이터 탐색"
   ]
  },
  {
   "cell_type": "code",
   "execution_count": 56,
   "id": "9acc9eda",
   "metadata": {},
   "outputs": [
    {
     "data": {
      "text/plain": [
       "시가     0\n",
       "고가     0\n",
       "저가     0\n",
       "종가     0\n",
       "거래량    0\n",
       "dtype: int64"
      ]
     },
     "execution_count": 56,
     "metadata": {},
     "output_type": "execute_result"
    }
   ],
   "source": [
    "# 결측치 탐색\n",
    "df.isnull().sum()"
   ]
  },
  {
   "cell_type": "code",
   "execution_count": 57,
   "id": "3e746260",
   "metadata": {},
   "outputs": [
    {
     "data": {
      "text/html": [
       "<div>\n",
       "<style scoped>\n",
       "    .dataframe tbody tr th:only-of-type {\n",
       "        vertical-align: middle;\n",
       "    }\n",
       "\n",
       "    .dataframe tbody tr th {\n",
       "        vertical-align: top;\n",
       "    }\n",
       "\n",
       "    .dataframe thead th {\n",
       "        text-align: right;\n",
       "    }\n",
       "</style>\n",
       "<table border=\"1\" class=\"dataframe\">\n",
       "  <thead>\n",
       "    <tr style=\"text-align: right;\">\n",
       "      <th></th>\n",
       "      <th>시가</th>\n",
       "      <th>고가</th>\n",
       "      <th>저가</th>\n",
       "      <th>종가</th>\n",
       "      <th>거래량</th>\n",
       "    </tr>\n",
       "  </thead>\n",
       "  <tbody>\n",
       "    <tr>\n",
       "      <th>count</th>\n",
       "      <td>426.000000</td>\n",
       "      <td>426.000000</td>\n",
       "      <td>426.000000</td>\n",
       "      <td>426.000000</td>\n",
       "      <td>4.260000e+02</td>\n",
       "    </tr>\n",
       "    <tr>\n",
       "      <th>mean</th>\n",
       "      <td>46742.723005</td>\n",
       "      <td>47183.450704</td>\n",
       "      <td>46272.065728</td>\n",
       "      <td>46735.798122</td>\n",
       "      <td>1.143660e+07</td>\n",
       "    </tr>\n",
       "    <tr>\n",
       "      <th>std</th>\n",
       "      <td>4509.621724</td>\n",
       "      <td>4517.591974</td>\n",
       "      <td>4433.557218</td>\n",
       "      <td>4470.252415</td>\n",
       "      <td>5.072198e+06</td>\n",
       "    </tr>\n",
       "    <tr>\n",
       "      <th>min</th>\n",
       "      <td>37450.000000</td>\n",
       "      <td>37600.000000</td>\n",
       "      <td>36850.000000</td>\n",
       "      <td>37450.000000</td>\n",
       "      <td>4.406531e+06</td>\n",
       "    </tr>\n",
       "    <tr>\n",
       "      <th>25%</th>\n",
       "      <td>43912.500000</td>\n",
       "      <td>44350.000000</td>\n",
       "      <td>43550.000000</td>\n",
       "      <td>44000.000000</td>\n",
       "      <td>8.264758e+06</td>\n",
       "    </tr>\n",
       "    <tr>\n",
       "      <th>50%</th>\n",
       "      <td>46100.000000</td>\n",
       "      <td>46450.000000</td>\n",
       "      <td>45650.000000</td>\n",
       "      <td>46075.000000</td>\n",
       "      <td>1.043370e+07</td>\n",
       "    </tr>\n",
       "    <tr>\n",
       "      <th>75%</th>\n",
       "      <td>48975.000000</td>\n",
       "      <td>49237.500000</td>\n",
       "      <td>48537.500000</td>\n",
       "      <td>49012.500000</td>\n",
       "      <td>1.328609e+07</td>\n",
       "    </tr>\n",
       "    <tr>\n",
       "      <th>max</th>\n",
       "      <td>62000.000000</td>\n",
       "      <td>62800.000000</td>\n",
       "      <td>61700.000000</td>\n",
       "      <td>62400.000000</td>\n",
       "      <td>6.349111e+07</td>\n",
       "    </tr>\n",
       "  </tbody>\n",
       "</table>\n",
       "</div>"
      ],
      "text/plain": [
       "                 시가            고가            저가            종가           거래량\n",
       "count    426.000000    426.000000    426.000000    426.000000  4.260000e+02\n",
       "mean   46742.723005  47183.450704  46272.065728  46735.798122  1.143660e+07\n",
       "std     4509.621724   4517.591974   4433.557218   4470.252415  5.072198e+06\n",
       "min    37450.000000  37600.000000  36850.000000  37450.000000  4.406531e+06\n",
       "25%    43912.500000  44350.000000  43550.000000  44000.000000  8.264758e+06\n",
       "50%    46100.000000  46450.000000  45650.000000  46075.000000  1.043370e+07\n",
       "75%    48975.000000  49237.500000  48537.500000  49012.500000  1.328609e+07\n",
       "max    62000.000000  62800.000000  61700.000000  62400.000000  6.349111e+07"
      ]
     },
     "execution_count": 57,
     "metadata": {},
     "output_type": "execute_result"
    }
   ],
   "source": [
    "# 시가, 고가, 저가, 종가, 거래량 기초통계량(평균, 분산, 최소, 최대 등)\n",
    "df.describe()"
   ]
  },
  {
   "cell_type": "code",
   "execution_count": 58,
   "id": "42746485",
   "metadata": {},
   "outputs": [
    {
     "data": {
      "text/plain": [
       "<AxesSubplot:xlabel='일자', ylabel='종가'>"
      ]
     },
     "execution_count": 58,
     "metadata": {},
     "output_type": "execute_result"
    },
    {
     "data": {
      "image/png": "[encoded data removed]",
      "text/plain": [
       "<Figure size 1296x648 with 1 Axes>"
      ]
     },
     "metadata": {
      "needs_background": "light"
     },
     "output_type": "display_data"
    }
   ],
   "source": [
    "#종가\n",
    "plt.figure(figsize=(18,9))\n",
    "sns.lineplot(x=df.index, y=df['종가'])"
   ]
  },
  {
   "cell_type": "markdown",
   "id": "069806f9",
   "metadata": {},
   "source": [
    "# 주가지수 상승/하락 분류모형"
   ]
  },
  {
   "cell_type": "code",
   "execution_count": 59,
   "id": "8e504596",
   "metadata": {},
   "outputs": [
    {
     "data": {
      "text/html": [
       "<div>\n",
       "<style scoped>\n",
       "    .dataframe tbody tr th:only-of-type {\n",
       "        vertical-align: middle;\n",
       "    }\n",
       "\n",
       "    .dataframe tbody tr th {\n",
       "        vertical-align: top;\n",
       "    }\n",
       "\n",
       "    .dataframe thead th {\n",
       "        text-align: right;\n",
       "    }\n",
       "</style>\n",
       "<table border=\"1\" class=\"dataframe\">\n",
       "  <thead>\n",
       "    <tr style=\"text-align: right;\">\n",
       "      <th></th>\n",
       "      <th>시가</th>\n",
       "      <th>고가</th>\n",
       "      <th>저가</th>\n",
       "      <th>종가</th>\n",
       "      <th>거래량</th>\n",
       "      <th>5days</th>\n",
       "    </tr>\n",
       "    <tr>\n",
       "      <th>일자</th>\n",
       "      <th></th>\n",
       "      <th></th>\n",
       "      <th></th>\n",
       "      <th></th>\n",
       "      <th></th>\n",
       "      <th></th>\n",
       "    </tr>\n",
       "  </thead>\n",
       "  <tbody>\n",
       "    <tr>\n",
       "      <th>2018-05-04</th>\n",
       "      <td>53000</td>\n",
       "      <td>53900</td>\n",
       "      <td>51800</td>\n",
       "      <td>51900</td>\n",
       "      <td>39565391</td>\n",
       "      <td>49850.0</td>\n",
       "    </tr>\n",
       "    <tr>\n",
       "      <th>2018-05-08</th>\n",
       "      <td>52600</td>\n",
       "      <td>53200</td>\n",
       "      <td>51900</td>\n",
       "      <td>52600</td>\n",
       "      <td>23104720</td>\n",
       "      <td>49400.0</td>\n",
       "    </tr>\n",
       "    <tr>\n",
       "      <th>2018-05-09</th>\n",
       "      <td>52600</td>\n",
       "      <td>52800</td>\n",
       "      <td>50900</td>\n",
       "      <td>50900</td>\n",
       "      <td>16128305</td>\n",
       "      <td>49500.0</td>\n",
       "    </tr>\n",
       "    <tr>\n",
       "      <th>2018-05-10</th>\n",
       "      <td>51700</td>\n",
       "      <td>51700</td>\n",
       "      <td>50600</td>\n",
       "      <td>51600</td>\n",
       "      <td>13905263</td>\n",
       "      <td>50000.0</td>\n",
       "    </tr>\n",
       "    <tr>\n",
       "      <th>2018-05-11</th>\n",
       "      <td>52000</td>\n",
       "      <td>52200</td>\n",
       "      <td>51200</td>\n",
       "      <td>51300</td>\n",
       "      <td>10314997</td>\n",
       "      <td>51800.0</td>\n",
       "    </tr>\n",
       "    <tr>\n",
       "      <th>2018-05-14</th>\n",
       "      <td>51000</td>\n",
       "      <td>51100</td>\n",
       "      <td>49900</td>\n",
       "      <td>50100</td>\n",
       "      <td>14909272</td>\n",
       "      <td>51400.0</td>\n",
       "    </tr>\n",
       "    <tr>\n",
       "      <th>2018-05-15</th>\n",
       "      <td>50200</td>\n",
       "      <td>50400</td>\n",
       "      <td>49100</td>\n",
       "      <td>49200</td>\n",
       "      <td>18709146</td>\n",
       "      <td>52700.0</td>\n",
       "    </tr>\n",
       "    <tr>\n",
       "      <th>2018-05-16</th>\n",
       "      <td>49200</td>\n",
       "      <td>50200</td>\n",
       "      <td>49150</td>\n",
       "      <td>49850</td>\n",
       "      <td>15918683</td>\n",
       "      <td>52300.0</td>\n",
       "    </tr>\n",
       "    <tr>\n",
       "      <th>2018-05-17</th>\n",
       "      <td>50300</td>\n",
       "      <td>50500</td>\n",
       "      <td>49400</td>\n",
       "      <td>49400</td>\n",
       "      <td>10365440</td>\n",
       "      <td>51300.0</td>\n",
       "    </tr>\n",
       "    <tr>\n",
       "      <th>2018-05-18</th>\n",
       "      <td>49900</td>\n",
       "      <td>49900</td>\n",
       "      <td>49350</td>\n",
       "      <td>49500</td>\n",
       "      <td>6706570</td>\n",
       "      <td>49500.0</td>\n",
       "    </tr>\n",
       "  </tbody>\n",
       "</table>\n",
       "</div>"
      ],
      "text/plain": [
       "               시가     고가     저가     종가       거래량    5days\n",
       "일자                                                       \n",
       "2018-05-04  53000  53900  51800  51900  39565391  49850.0\n",
       "2018-05-08  52600  53200  51900  52600  23104720  49400.0\n",
       "2018-05-09  52600  52800  50900  50900  16128305  49500.0\n",
       "2018-05-10  51700  51700  50600  51600  13905263  50000.0\n",
       "2018-05-11  52000  52200  51200  51300  10314997  51800.0\n",
       "2018-05-14  51000  51100  49900  50100  14909272  51400.0\n",
       "2018-05-15  50200  50400  49100  49200  18709146  52700.0\n",
       "2018-05-16  49200  50200  49150  49850  15918683  52300.0\n",
       "2018-05-17  50300  50500  49400  49400  10365440  51300.0\n",
       "2018-05-18  49900  49900  49350  49500   6706570  49500.0"
      ]
     },
     "execution_count": 59,
     "metadata": {},
     "output_type": "execute_result"
    }
   ],
   "source": [
    "#5_days ahead prediction(5영업일 이후 종가변수 추가)\n",
    "df['5days'] = df['종가'].shift(7)\n",
    "\n",
    "#7만큼 종가를 이전으로 가져왔기때문에 결측치 7개 존재\n",
    "df = df.sort_index()\n",
    "df.head(10)"
   ]
  },
  {
   "cell_type": "code",
   "execution_count": 60,
   "id": "b5f95b55",
   "metadata": {},
   "outputs": [],
   "source": [
    "#결측치 제거\n",
    "df = df.dropna()"
   ]
  },
  {
   "cell_type": "code",
   "execution_count": 61,
   "id": "00647e39",
   "metadata": {},
   "outputs": [],
   "source": [
    "#일주일 전 종가보다 올랐으면 1, 내렸으면 0으로 족속변수 설정\n",
    "df['y'] = 0\n",
    "df['y'] = np.where(df['5days'] > df['종가'], 1, 0)"
   ]
  },
  {
   "cell_type": "code",
   "execution_count": 62,
   "id": "403ac7bf",
   "metadata": {},
   "outputs": [],
   "source": [
    "#입력변수 설정(시가, 저가, 고가, 종가, 거래량)\n",
    "X = df.drop(columns = 'y')\n",
    "#종속변수 설정(5영업일 뒤 종가)\n",
    "y = df['y']"
   ]
  },
  {
   "cell_type": "code",
   "execution_count": 63,
   "id": "bda981ea",
   "metadata": {},
   "outputs": [],
   "source": [
    "#학습용, 검증용 데이터셋 나누기\\\n",
    "# (7:3, shuffle = False로 지정해 random sampling되지 않게 설정)\n",
    "X_train, X_test, y_train, y_test = train_test_split(X, \n",
    "                                                    y, \n",
    "                                                    test_size=0.3, \n",
    "                                                    shuffle=False)"
   ]
  },
  {
   "cell_type": "code",
   "execution_count": 64,
   "id": "4fa09519",
   "metadata": {},
   "outputs": [
    {
     "name": "stdout",
     "output_type": "stream",
     "text": [
      "학습 데이터 개수: 293\n",
      "평가 데이터 개수: 126\n"
     ]
    }
   ],
   "source": [
    "#확인\n",
    "print(\"학습 데이터 개수:\", X_train.shape[0])\n",
    "print(\"평가 데이터 개수:\", X_test.shape[0])"
   ]
  },
  {
   "cell_type": "markdown",
   "id": "bbfc67b3",
   "metadata": {},
   "source": [
    "# MA(5) 모형"
   ]
  },
  {
   "cell_type": "code",
   "execution_count": 65,
   "id": "4c50a24d",
   "metadata": {},
   "outputs": [
    {
     "name": "stdout",
     "output_type": "stream",
     "text": [
      "accuracy score: 22.22\n"
     ]
    }
   ],
   "source": [
    "#MA(5)예측값 생성 - 평가데이터 개수만큼\n",
    "pred_MA = df['5days'].rolling(window = 5).mean()[293:]\n",
    "pred_MA_class = pd.concat([X_test['5days'], pred_MA], axis = 1)\n",
    "pred_MA_class.columns = ['real','prediction']\n",
    "pred_MA_class['class'] = 0\n",
    "pred_MA_class['class'] = np.where(pred_MA_class['real'] < pred_MA_class['prediction'], 1, 0)\n",
    "pred_MA_class = pred_MA_class['class']\n",
    "print('accuracy score:', round(accuracy_score(pred_MA_class, y_test) * 100,2))"
   ]
  },
  {
   "cell_type": "markdown",
   "id": "8140f253",
   "metadata": {},
   "source": [
    "# 인공신경망 모형"
   ]
  },
  {
   "cell_type": "code",
   "execution_count": 66,
   "id": "3e9c132d",
   "metadata": {},
   "outputs": [],
   "source": [
    "train_X = X_train.drop(columns = '5days')\n",
    "test_X = X_test.drop(columns = '5days')"
   ]
  },
  {
   "cell_type": "code",
   "execution_count": 67,
   "id": "4dbebab2",
   "metadata": {},
   "outputs": [
    {
     "name": "stdout",
     "output_type": "stream",
     "text": [
      "accuracy score: 38.1\n"
     ]
    }
   ],
   "source": [
    "#모형 생성\n",
    "NN = MLPRegressor(hidden_layer_sizes = 10, #은닉층 노드 개수\n",
    "                  momentum = 0.1, #모멘텀\n",
    "                  learning_rate_init = 0.1, #학습률\n",
    "                  max_iter = 1000, #epoch\n",
    "                  random_state = 1) # 모형 고정\n",
    "\n",
    "#모형 학습\n",
    "NN.fit(train_X, y_train)\n",
    "\n",
    "#예측 값 생성\n",
    "pred_NN = pd.DataFrame(NN.predict(test_X))\n",
    "pred_NN.columns = ['pred']\n",
    "pred_NN.index = X_test.index\n",
    "pred_NN_class = pd.concat([X_test['5days'], pred_NN], axis = 1)\n",
    "pred_NN_class.columns = ['real','prediction']\n",
    "pred_NN_class['class'] = 0\n",
    "pred_NN_class['class'] = np.where(pred_NN_class['real'] < pred_NN_class['prediction'], 1, 0)\n",
    "pred_NN_class = pred_NN_class['class']\n",
    "\n",
    "print('accuracy score:', round(accuracy_score(pred_NN_class, y_test) * 100,2))"
   ]
  },
  {
   "cell_type": "markdown",
   "id": "3c29f108",
   "metadata": {},
   "source": [
    "# 순환 신경망 모형"
   ]
  },
  {
   "cell_type": "code",
   "execution_count": 68,
   "id": "189c770f",
   "metadata": {},
   "outputs": [],
   "source": [
    "#모형 구축\n",
    "model = Sequential()\n",
    "model.add(SimpleRNN(12, input_shape=(5,1), activation='relu'))\n",
    "model.add(Dense(8, activation='relu'))\n",
    "model.add(Dense(1))\n",
    "model.compile(loss='mse', optimizer='adam', metrics=['acc'])"
   ]
  },
  {
   "cell_type": "code",
   "execution_count": 69,
   "id": "7ad9fad4",
   "metadata": {},
   "outputs": [],
   "source": [
    "#keras 입력값 형식 변경\n",
    "train_x = train_X.values.reshape(train_X.shape[0],5,1) #행 길이, 변수 개수, 차원(1)\n",
    "test_x = test_X.values.reshape(test_X.shape[0],5,1) "
   ]
  },
  {
   "cell_type": "code",
   "execution_count": 70,
   "id": "7a4fe15d",
   "metadata": {
    "scrolled": true
   },
   "outputs": [
    {
     "name": "stdout",
     "output_type": "stream",
     "text": [
      "Epoch 1/40\n",
      "147/147 [==============================] - 0s 830us/step - loss: 1143573760.0000 - acc: 0.5119\n",
      "Epoch 2/40\n",
      "147/147 [==============================] - 0s 765us/step - loss: 683575552.0000 - acc: 0.4812\n",
      "Epoch 3/40\n",
      "147/147 [==============================] - 0s 821us/step - loss: 1001612288.0000 - acc: 0.5188\n",
      "Epoch 4/40\n",
      "147/147 [==============================] - 0s 803us/step - loss: 580689024.0000 - acc: 0.5427\n",
      "Epoch 5/40\n",
      "147/147 [==============================] - 0s 763us/step - loss: 411157184.0000 - acc: 0.4983\n",
      "Epoch 6/40\n",
      "147/147 [==============================] - 0s 769us/step - loss: 176821152.0000 - acc: 0.5290\n",
      "Epoch 7/40\n",
      "147/147 [==============================] - 0s 795us/step - loss: 24650874.0000 - acc: 0.5802\n",
      "Epoch 8/40\n",
      "147/147 [==============================] - 0s 776us/step - loss: 16390542.0000 - acc: 0.6246\n",
      "Epoch 9/40\n",
      "147/147 [==============================] - 0s 769us/step - loss: 750853.2500 - acc: 0.5768\n",
      "Epoch 10/40\n",
      "147/147 [==============================] - 0s 796us/step - loss: 311018.9688 - acc: 0.5392\n",
      "Epoch 11/40\n",
      "147/147 [==============================] - 0s 845us/step - loss: 387485.0938 - acc: 0.5188\n",
      "Epoch 12/40\n",
      "147/147 [==============================] - 0s 789us/step - loss: 146244.4219 - acc: 0.4642\n",
      "Epoch 13/40\n",
      "147/147 [==============================] - 0s 741us/step - loss: 6141.5942 - acc: 0.4744\n",
      "Epoch 14/40\n",
      "147/147 [==============================] - 0s 755us/step - loss: 5693.4673 - acc: 0.5358\n",
      "Epoch 15/40\n",
      "147/147 [==============================] - 0s 748us/step - loss: 910355.3125 - acc: 0.4915\n",
      "Epoch 16/40\n",
      "147/147 [==============================] - 0s 781us/step - loss: 22145820.0000 - acc: 0.4334\n",
      "Epoch 17/40\n",
      "147/147 [==============================] - 0s 755us/step - loss: 2442366464.0000 - acc: 0.5768\n",
      "Epoch 18/40\n",
      "147/147 [==============================] - 0s 778us/step - loss: 85501592.0000 - acc: 0.5597\n",
      "Epoch 19/40\n",
      "147/147 [==============================] - 0s 821us/step - loss: 203698336.0000 - acc: 0.5324\n",
      "Epoch 20/40\n",
      "147/147 [==============================] - 0s 765us/step - loss: 38944100.0000 - acc: 0.5154\n",
      "Epoch 21/40\n",
      "147/147 [==============================] - 0s 748us/step - loss: 31859328.0000 - acc: 0.4778\n",
      "Epoch 22/40\n",
      "147/147 [==============================] - 0s 804us/step - loss: 1060038.5000 - acc: 0.4778\n",
      "Epoch 23/40\n",
      "147/147 [==============================] - 0s 786us/step - loss: 1588500.6250 - acc: 0.4949\n",
      "Epoch 24/40\n",
      "147/147 [==============================] - 0s 775us/step - loss: 25865144.0000 - acc: 0.4676\n",
      "Epoch 25/40\n",
      "147/147 [==============================] - 0s 776us/step - loss: 194648464.0000 - acc: 0.4744\n",
      "Epoch 26/40\n",
      "147/147 [==============================] - 0s 803us/step - loss: 1269308288.0000 - acc: 0.5461\n",
      "Epoch 27/40\n",
      "147/147 [==============================] - 0s 789us/step - loss: 30249408.0000 - acc: 0.4198\n",
      "Epoch 28/40\n",
      "147/147 [==============================] - 0s 762us/step - loss: 74703784.0000 - acc: 0.4437\n",
      "Epoch 29/40\n",
      "147/147 [==============================] - 0s 783us/step - loss: 9322908.0000 - acc: 0.5222\n",
      "Epoch 30/40\n",
      "147/147 [==============================] - 0s 776us/step - loss: 30409414.0000 - acc: 0.4608\n",
      "Epoch 31/40\n",
      "147/147 [==============================] - 0s 803us/step - loss: 465790848.0000 - acc: 0.4812\n",
      "Epoch 32/40\n",
      "147/147 [==============================] - 0s 790us/step - loss: 477920000.0000 - acc: 0.5904\n",
      "Epoch 33/40\n",
      "147/147 [==============================] - 0s 824us/step - loss: 205031616.0000 - acc: 0.4539\n",
      "Epoch 34/40\n",
      "147/147 [==============================] - 0s 785us/step - loss: 40449512.0000 - acc: 0.5154\n",
      "Epoch 35/40\n",
      "147/147 [==============================] - 0s 800us/step - loss: 39927128.0000 - acc: 0.4812\n",
      "Epoch 36/40\n",
      "147/147 [==============================] - 0s 762us/step - loss: 555066432.0000 - acc: 0.5529\n",
      "Epoch 37/40\n",
      "147/147 [==============================] - 0s 782us/step - loss: 33867892.0000 - acc: 0.5290\n",
      "Epoch 38/40\n",
      "147/147 [==============================] - 0s 789us/step - loss: 210029280.0000 - acc: 0.4983\n",
      "Epoch 39/40\n",
      "147/147 [==============================] - 0s 765us/step - loss: 689341376.0000 - acc: 0.5836\n",
      "Epoch 40/40\n",
      "147/147 [==============================] - 0s 762us/step - loss: 228739488.0000 - acc: 0.4778\n"
     ]
    },
    {
     "data": {
      "text/plain": [
       "<tensorflow.python.keras.callbacks.History at 0x2815ecbc8b0>"
      ]
     },
     "execution_count": 70,
     "metadata": {},
     "output_type": "execute_result"
    }
   ],
   "source": [
    "#학습하기\n",
    "epochs = 40\n",
    "batch_size = 2\n",
    "model.fit(train_x, y_train,\n",
    "          batch_size=batch_size,\n",
    "          epochs=epochs,\n",
    "          shuffle=False)"
   ]
  },
  {
   "cell_type": "code",
   "execution_count": 71,
   "id": "ab28f028",
   "metadata": {},
   "outputs": [
    {
     "name": "stdout",
     "output_type": "stream",
     "text": [
      "accuracy score: 38.1\n"
     ]
    }
   ],
   "source": [
    "pred_RNN = pd.DataFrame(model.predict(test_x))\n",
    "pred_RNN.columns = ['pred']\n",
    "pred_RNN.index = X_test.index\n",
    "pred_RNN_class = pd.concat([X_test['5days'], pred_RNN], axis = 1)\n",
    "pred_RNN_class.columns = ['real','prediction']\n",
    "pred_RNN_class['class'] = 0\n",
    "pred_RNN_class['class'] = np.where(pred_RNN_class['real'] < pred_RNN_class['prediction'], 1, 0)\n",
    "pred_RNN_class = pred_RNN_class['class']\n",
    "\n",
    "print('accuracy score:', round(accuracy_score(pred_RNN_class, y_test) * 100,2))"
   ]
  },
  {
   "cell_type": "code",
   "execution_count": null,
   "id": "e6661aa9",
   "metadata": {},
   "outputs": [],
   "source": []
  }
 ],
 "metadata": {
  "kernelspec": {
   "display_name": "Python 3",
   "language": "python",
   "name": "python3"
  },
  "language_info": {
   "codemirror_mode": {
    "name": "ipython",
    "version": 3
   },
   "file_extension": ".py",
   "mimetype": "text/x-python",
   "name": "python",
   "nbconvert_exporter": "python",
   "pygments_lexer": "ipython3",
   "version": "3.8.10"
  }
 },
 "nbformat": 4,
 "nbformat_minor": 5
}
